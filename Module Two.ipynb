{
 "cells": [
  {
   "cell_type": "markdown",
   "metadata": {},
   "source": [
    "# Module Two"
   ]
  },
  {
   "cell_type": "markdown",
   "metadata": {},
   "source": [
    "At the end of the module, students should be able to:\n",
    "- understand and know structures and conditionals in Python\n",
    "- understand and know how Python functions work and how to create functions"
   ]
  },
  {
   "cell_type": "markdown",
   "metadata": {},
   "source": [
    "## 1.0 Structures in Python"
   ]
  },
  {
   "cell_type": "markdown",
   "metadata": {},
   "source": [
    "We have dealth with the basic structures of Python in the first module. Now we will go through more structures and conditionals in Python. There are the _if statments, while loops and for loops_."
   ]
  },
  {
   "cell_type": "markdown",
   "metadata": {},
   "source": [
    "### 1.1 If Statements"
   ]
  },
  {
   "cell_type": "code",
   "execution_count": 1,
   "metadata": {},
   "outputs": [
    {
     "name": "stdout",
     "output_type": "stream",
     "text": [
      "Welcome to your homepage. Please enter your password: happy\n",
      "Hello, welcome back to Python. We've missed you\n"
     ]
    }
   ],
   "source": [
    "password = input('Welcome to your homepage. Please enter your password: ')\n",
    "if password == 'happy':\n",
    "    print(\"Hello, welcome back to Python. We've missed you\")\n",
    "else:\n",
    "    print('Password fail. You are an imposter! Will call the police!')"
   ]
  },
  {
   "cell_type": "markdown",
   "metadata": {},
   "source": [
    "These are the way decisions are made based on if something is true or not. It makes it possible to test a condition or multiple conditions so that codes can run only if they fulfil certain  conditions.\n",
    "\n",
    "You notice that the _if_ line of code is executed because you entered the right password _'happy'_. If you did not make a mistake while typing the password, try running the code above with _'Happy'_ as the password.\n",
    "\n",
    "You realize the _else_ statement is executed."
   ]
  },
  {
   "cell_type": "markdown",
   "metadata": {},
   "source": [
    "#### Boolean Values\n",
    "They are the representation of true and false. They can either be \"True\" and \"False\" or 1 and 0"
   ]
  },
  {
   "cell_type": "code",
   "execution_count": 2,
   "metadata": {},
   "outputs": [
    {
     "name": "stdout",
     "output_type": "stream",
     "text": [
      "True\n"
     ]
    }
   ],
   "source": [
    "print(5 == 5)"
   ]
  },
  {
   "cell_type": "code",
   "execution_count": 3,
   "metadata": {},
   "outputs": [
    {
     "name": "stdout",
     "output_type": "stream",
     "text": [
      "1\n"
     ]
    }
   ],
   "source": [
    "print(int(5 == 5)) # a boolean can be converted to an integer using the int() function"
   ]
  },
  {
   "cell_type": "markdown",
   "metadata": {},
   "source": [
    "Usually, the representation is as True or False but there are specific times that 0 or 1 is used.\n",
    "\n",
    "Here are some comparisons that can also be made."
   ]
  },
  {
   "cell_type": "code",
   "execution_count": 4,
   "metadata": {},
   "outputs": [
    {
     "name": "stdout",
     "output_type": "stream",
     "text": [
      "True\n",
      "True\n",
      "False\n",
      "False\n",
      "True\n"
     ]
    }
   ],
   "source": [
    "print(6 != 5)  # 6 is not equal to 5\n",
    "print(5 >= 5)  # 5 is greater than or equal to 5\n",
    "print(5 <= 4)  # 5 is less than or equal to 4\n",
    "print(5 > 5)   # 5 is greater than 5\n",
    "print(3 < 4)   # 3 is less than 4"
   ]
  },
  {
   "cell_type": "code",
   "execution_count": 5,
   "metadata": {},
   "outputs": [
    {
     "name": "stdout",
     "output_type": "stream",
     "text": [
      "Number: 4\n",
      "4 is less than 5\n"
     ]
    }
   ],
   "source": [
    "number = int(input('Number: '))\n",
    "if number >= 5:\n",
    "    print(number, 'is greater than or equal to 5')\n",
    "else:\n",
    "    print(number, 'is less than 5')"
   ]
  },
  {
   "cell_type": "markdown",
   "metadata": {},
   "source": [
    "The output from above is dependent on the answer you give in the text box. You can try with other answers too. (Hope you remember why we used the int() function in the first line of code)"
   ]
  },
  {
   "cell_type": "markdown",
   "metadata": {},
   "source": [
    "#### Try\n",
    "Create an input variable, and an if statement thats says if the variable divided by 10 is equal to 5, then print \"It's 50\" else \"It's not 50\"."
   ]
  },
  {
   "cell_type": "markdown",
   "metadata": {},
   "source": [
    "You can also have nested _if statements_. You just need to indent down a further level"
   ]
  },
  {
   "cell_type": "code",
   "execution_count": 6,
   "metadata": {},
   "outputs": [
    {
     "name": "stdout",
     "output_type": "stream",
     "text": [
      "Number: 23\n",
      "23 is greater than 10\n"
     ]
    }
   ],
   "source": [
    "number = int(input('Number: '))\n",
    "if number < 10:\n",
    "    print(number, 'is less than 10')\n",
    "    if number < 5:\n",
    "        print(number, 'is less than 5')\n",
    "else:\n",
    "    print(number, 'is greater than 10')"
   ]
  },
  {
   "cell_type": "markdown",
   "metadata": {},
   "source": [
    "#### If-Elif Statements\n",
    "There is also the _if - elif statements_(elif-else if). It makes you check another condition if the _if_ condition is not achieved before it executes the _else_ condition."
   ]
  },
  {
   "cell_type": "code",
   "execution_count": 7,
   "metadata": {},
   "outputs": [
    {
     "name": "stdout",
     "output_type": "stream",
     "text": [
      "Number: 69\n",
      "C. Good!\n"
     ]
    }
   ],
   "source": [
    "number = int(input('Number: '))\n",
    "if 80 <= number <= 100:\n",
    "    print('A. Excellent!')\n",
    "elif 70 <= number <= 79:\n",
    "    print('B. Very Good!')\n",
    "elif 60 <= number <= 69:\n",
    "    print('C. Good!')\n",
    "elif 50 <= number <= 59:\n",
    "    print('D. Fair!')\n",
    "else:\n",
    "    print('E. You failed!')"
   ]
  },
  {
   "cell_type": "markdown",
   "metadata": {},
   "source": [
    "Based on the answer you give, a particular line of code is executed. After you input a number, if the first condition is False, it moves to the next condition, until it get to a condition that satisfies your input."
   ]
  },
  {
   "cell_type": "markdown",
   "metadata": {},
   "source": [
    "#### AND/OR Statements"
   ]
  },
  {
   "cell_type": "markdown",
   "metadata": {},
   "source": [
    "'And' statements checks if both statements are True. It only executes a True statements if both arguments are correct. If one is wrong, it executes a False statement."
   ]
  },
  {
   "cell_type": "code",
   "execution_count": 8,
   "metadata": {},
   "outputs": [
    {
     "name": "stdout",
     "output_type": "stream",
     "text": [
      "False\n",
      "True\n"
     ]
    }
   ],
   "source": [
    "print(11 > 10 and 15 > 26)\n",
    "print(25/5 > 3 and 10 == 10)"
   ]
  },
  {
   "cell_type": "markdown",
   "metadata": {},
   "source": [
    "'Or' statements on the other hand, check if one of the arguments is True, then it returns a 'True' result. It executes a True statement if one argument is correct."
   ]
  },
  {
   "cell_type": "code",
   "execution_count": 9,
   "metadata": {},
   "outputs": [
    {
     "name": "stdout",
     "output_type": "stream",
     "text": [
      "True\n",
      "True\n"
     ]
    }
   ],
   "source": [
    "print(11 > 10 or 15 > 26)\n",
    "print(25/5 > 3 or 10 == 10)"
   ]
  },
  {
   "cell_type": "markdown",
   "metadata": {},
   "source": [
    "### 1.2 Loops"
   ]
  },
  {
   "cell_type": "markdown",
   "metadata": {},
   "source": [
    "Loops allow a repeatition of a piece of codes a number of times. It can be used to iterate through a list or other iterables. The main idea of a loops is to have lines of codes that we want to repeat multiple times for different inputs."
   ]
  },
  {
   "cell_type": "markdown",
   "metadata": {},
   "source": [
    "#### For Loop\n",
    "The set up of a loop goes \"for i in x:\" where i is the variable we assign at the beginning of each loop and x is the numbers or items we want to loop through. This is followed by idented code like in the if statement"
   ]
  },
  {
   "cell_type": "code",
   "execution_count": 34,
   "metadata": {},
   "outputs": [
    {
     "name": "stdout",
     "output_type": "stream",
     "text": [
      "0\n",
      "1\n",
      "2\n",
      "3\n",
      "4\n"
     ]
    }
   ],
   "source": [
    "for i in range(0,5): \n",
    "    print(i)\n",
    "# the range means going from a to b not including b (0,1,2,3,4)"
   ]
  },
  {
   "cell_type": "markdown",
   "metadata": {},
   "source": [
    "i is the variable we get to assign our loop values to, and the range 0 to 5 is what we loop through. You'll notice that we don't print out 5, this is because everything up until the last number is included in the range.\n",
    "\n",
    "Now let's loop through each value and print out the number times 2."
   ]
  },
  {
   "cell_type": "code",
   "execution_count": 35,
   "metadata": {},
   "outputs": [
    {
     "name": "stdout",
     "output_type": "stream",
     "text": [
      "0\n",
      "2\n",
      "4\n",
      "6\n",
      "8\n"
     ]
    }
   ],
   "source": [
    "for i in range(0,5):\n",
    "    print(i*2)"
   ]
  },
  {
   "cell_type": "markdown",
   "metadata": {},
   "source": [
    "We can have a loop within a loop"
   ]
  },
  {
   "cell_type": "code",
   "execution_count": 36,
   "metadata": {},
   "outputs": [
    {
     "name": "stdout",
     "output_type": "stream",
     "text": [
      "First:  0 , Last:  0\n",
      "First:  0 , Last:  1\n",
      "First:  0 , Last:  2\n",
      "First:  0 , Last:  3\n",
      "First:  0 , Last:  4\n",
      "First:  1 , Last:  0\n",
      "First:  1 , Last:  1\n",
      "First:  1 , Last:  2\n",
      "First:  1 , Last:  3\n",
      "First:  1 , Last:  4\n",
      "First:  2 , Last:  0\n",
      "First:  2 , Last:  1\n",
      "First:  2 , Last:  2\n",
      "First:  2 , Last:  3\n",
      "First:  2 , Last:  4\n",
      "First:  3 , Last:  0\n",
      "First:  3 , Last:  1\n",
      "First:  3 , Last:  2\n",
      "First:  3 , Last:  3\n",
      "First:  3 , Last:  4\n",
      "First:  4 , Last:  0\n",
      "First:  4 , Last:  1\n",
      "First:  4 , Last:  2\n",
      "First:  4 , Last:  3\n",
      "First:  4 , Last:  4\n"
     ]
    }
   ],
   "source": [
    "for i in range(0,5):\n",
    "    for j in range(0,5):\n",
    "        print(\"First: \",i,\", Last: \",j)"
   ]
  },
  {
   "cell_type": "markdown",
   "metadata": {},
   "source": [
    "You'll notice we have 25 things printed because we have 5 in the outter loop and 5 in the inner loop. Each time we set i equal to a new number, we also go through all 5 loops of j. So we call the j loop 5 times in total and each time we call the j loop we loop through it 5 times"
   ]
  },
  {
   "cell_type": "code",
   "execution_count": 39,
   "metadata": {},
   "outputs": [
    {
     "name": "stdout",
     "output_type": "stream",
     "text": [
      "0\n",
      "1\n",
      "2\n",
      "3\n",
      "4\n",
      "5\n",
      "6\n",
      "7\n"
     ]
    }
   ],
   "source": [
    "for x in range(10):\n",
    "    print(x)\n",
    "    if x==7:\n",
    "        break\n",
    "# the break statement stops the loop we are in\n",
    "# we use this usually when we want to terminate our loop if something is true."
   ]
  },
  {
   "cell_type": "markdown",
   "metadata": {},
   "source": [
    "When we try the break statement on a loop within a loop, it only breaks the current loop and not the latter."
   ]
  },
  {
   "cell_type": "code",
   "execution_count": 41,
   "metadata": {},
   "outputs": [
    {
     "name": "stdout",
     "output_type": "stream",
     "text": [
      "First: 0, Last: 0\n",
      "First: 0, Last: 1\n",
      "First: 0, Last: 2\n",
      "First: 1, Last: 0\n",
      "First: 1, Last: 1\n",
      "First: 1, Last: 2\n",
      "First: 2, Last: 0\n",
      "First: 2, Last: 1\n",
      "First: 2, Last: 2\n",
      "First: 3, Last: 0\n",
      "First: 3, Last: 1\n",
      "First: 3, Last: 2\n",
      "First: 4, Last: 0\n",
      "First: 4, Last: 1\n",
      "First: 4, Last: 2\n"
     ]
    }
   ],
   "source": [
    "for i in range(0,5):\n",
    "    for j in range(0,5):\n",
    "        print(\"First: \"+str(i)+\", Last: \"+str(j))\n",
    "        if j ==2:\n",
    "            break"
   ]
  },
  {
   "cell_type": "code",
   "execution_count": 55,
   "metadata": {},
   "outputs": [
    {
     "name": "stdout",
     "output_type": "stream",
     "text": [
      "0\n",
      "XX\n",
      "XX\n",
      "XX\n",
      "1\n",
      "XX\n",
      "XX\n",
      "XX\n",
      "2\n",
      "XX\n",
      "XX\n",
      "XX\n",
      "3\n",
      "4\n"
     ]
    }
   ],
   "source": [
    "for x in range(0,5):\n",
    "    print(x)\n",
    "    if x>2:\n",
    "        continue\n",
    "    print(\"XX\")\n",
    "    print(\"XX\")\n",
    "    print(\"XX\")"
   ]
  },
  {
   "cell_type": "markdown",
   "metadata": {},
   "source": [
    "#### Try\n",
    "Use a loop to print out only even numbers, up to the number 12 with a range ending at 20."
   ]
  },
  {
   "cell_type": "code",
   "execution_count": 57,
   "metadata": {},
   "outputs": [
    {
     "name": "stdout",
     "output_type": "stream",
     "text": [
      "0\n",
      "2\n",
      "4\n",
      "6\n",
      "8\n",
      "10\n",
      "12\n"
     ]
    }
   ],
   "source": [
    "for x in range(0,20):\n",
    "    if x%2 == 0:\n",
    "        print(x)\n",
    "    if x == 12:\n",
    "        break"
   ]
  },
  {
   "cell_type": "code",
   "execution_count": 63,
   "metadata": {},
   "outputs": [
    {
     "name": "stdout",
     "output_type": "stream",
     "text": [
      "1\n",
      "5\n",
      "10\n",
      "20\n"
     ]
    }
   ],
   "source": [
    "l = [1,5,10,20]\n",
    "for x in l:\n",
    "    print(x)\n",
    "# you can also iterate over a list instead of a range"
   ]
  },
  {
   "cell_type": "code",
   "execution_count": 65,
   "metadata": {},
   "outputs": [
    {
     "name": "stdout",
     "output_type": "stream",
     "text": [
      "2\n",
      "12\n",
      "30\n"
     ]
    }
   ],
   "source": [
    "list1 = [1,2,3]\n",
    "list2 = [2,6,10]\n",
    "for x,y in zip(list1, list2):\n",
    "    print(x * y)\n",
    "# zip iterates through lists together\n",
    "# each item in list1 is multiplied by its corresponding index in list2"
   ]
  },
  {
   "cell_type": "code",
   "execution_count": 66,
   "metadata": {},
   "outputs": [
    {
     "name": "stdout",
     "output_type": "stream",
     "text": [
      "[1, 2, 3]\n",
      "[4, 5, 6]\n",
      "[7, 8, 9]\n"
     ]
    }
   ],
   "source": [
    "l = [[1,2,3],[4,5,6],[7,8,9]]\n",
    "for x in l:\n",
    "    print(x)\n",
    "# each nested list is identified as one item"
   ]
  },
  {
   "cell_type": "code",
   "execution_count": 68,
   "metadata": {},
   "outputs": [
    {
     "name": "stdout",
     "output_type": "stream",
     "text": [
      "1\n",
      "2\n",
      "3\n",
      "4\n",
      "5\n",
      "6\n",
      "7\n",
      "8\n",
      "9\n"
     ]
    }
   ],
   "source": [
    "# and this is for each item in each nested list\n",
    "for x in l:\n",
    "    for y in x:\n",
    "        print(y)"
   ]
  },
  {
   "cell_type": "markdown",
   "metadata": {},
   "source": [
    "If we want to sum up the values of a list or specific values, this is what we can do"
   ]
  },
  {
   "cell_type": "code",
   "execution_count": 69,
   "metadata": {},
   "outputs": [
    {
     "name": "stdout",
     "output_type": "stream",
     "text": [
      "15\n"
     ]
    }
   ],
   "source": [
    "total = 0\n",
    "l = [1,2,3,4,5]\n",
    "for x in l:\n",
    "    total += x\n",
    "print(total)"
   ]
  },
  {
   "cell_type": "code",
   "execution_count": 72,
   "metadata": {},
   "outputs": [
    {
     "name": "stdout",
     "output_type": "stream",
     "text": [
      "0\n",
      "2\n",
      "4\n",
      "6\n",
      "8\n",
      "The total is: 20\n"
     ]
    }
   ],
   "source": [
    "total = 0\n",
    "for x in range(10):\n",
    "    if x%2==1:\n",
    "        continue\n",
    "    print(x)\n",
    "    total += x\n",
    "print(\"The total is:\", total)"
   ]
  },
  {
   "cell_type": "markdown",
   "metadata": {},
   "source": [
    "#### While Loop\n",
    "A while loop is a way to repeat a code or codes until a condition is met. It keeps running until the condition becomes false then it terminates.  Note that this could run forever if there isn't a way for the condition to be false."
   ]
  },
  {
   "cell_type": "code",
   "execution_count": 73,
   "metadata": {},
   "outputs": [
    {
     "name": "stdout",
     "output_type": "stream",
     "text": [
      "0\n",
      "1\n",
      "2\n",
      "3\n",
      "4\n"
     ]
    }
   ],
   "source": [
    "i = 0\n",
    "while i < 5:\n",
    "    print(i)\n",
    "    i += 1"
   ]
  },
  {
   "cell_type": "markdown",
   "metadata": {},
   "source": [
    "Assuming if we wanted to loop through incrementing a number until we got to a number divisible by 6."
   ]
  },
  {
   "cell_type": "code",
   "execution_count": 77,
   "metadata": {},
   "outputs": [
    {
     "name": "stdout",
     "output_type": "stream",
     "text": [
      "6\n"
     ]
    }
   ],
   "source": [
    "i = 1\n",
    "while i%6 != 0:\n",
    "    i+=1\n",
    "print(i)"
   ]
  },
  {
   "cell_type": "markdown",
   "metadata": {},
   "source": [
    "Let's try more"
   ]
  },
  {
   "cell_type": "code",
   "execution_count": 14,
   "metadata": {},
   "outputs": [
    {
     "name": "stdout",
     "output_type": "stream",
     "text": [
      "Enter your first name: Ama\n",
      "Enter your last name: Ghana\n",
      "Ama Ghana\n",
      "Do you want to enter a new name? (y for yes): Kweku\n",
      "Thank you!\n"
     ]
    }
   ],
   "source": [
    "next_name = 'y'\n",
    "while next_name == 'y':\n",
    "    first_name = input('Enter your first name: ')\n",
    "    last_name = input('Enter your last name: ')\n",
    "    print(first_name, last_name)\n",
    "    next_name = input('Do you want to enter a new name? (y for yes): ')\n",
    "    if next_name != 'y':\n",
    "        print('Thank you!')"
   ]
  },
  {
   "cell_type": "markdown",
   "metadata": {},
   "source": [
    "Note that the initializing value is important because the condition is being tested _'next_name == 'y'_. It is tested and if its true, the statements in the succeeding lines are executed then the loop starts over until the condition is found to be false then the programme exits the loop.\n",
    "\n",
    "Infinite loop continue to repeat itself until the programme is interrupted. It occurs when the programmer forgets to write a code inside the loop that makes the test condition false. Avoid writing infinite loops! (The only way to stop an infinite loop is to press Ctrl+C on the keyboard to interrupt it.)"
   ]
  },
  {
   "cell_type": "code",
   "execution_count": null,
   "metadata": {},
   "outputs": [
    {
     "name": "stdout",
     "output_type": "stream",
     "text": [
      "Enter your first name: ce\n",
      "Enter your last name: s\n",
      "ce s\n",
      "Thank you!\n",
      "Enter your first name: ds\n",
      "Enter your last name: sd\n",
      "ds sd\n",
      "Thank you!\n"
     ]
    }
   ],
   "source": [
    "next_name = 'y'\n",
    "while next_name == 'y':\n",
    "    first_name = input('Enter your first name: ')\n",
    "    last_name = input('Enter your last name: ')\n",
    "    print(first_name, last_name)\n",
    "    print('Thank you!')"
   ]
  },
  {
   "cell_type": "markdown",
   "metadata": {},
   "source": [
    "## 2.0 Functions"
   ]
  },
  {
   "cell_type": "markdown",
   "metadata": {},
   "source": [
    "Functions are basic ingredients in Python. They are essential parts of the codes in Python. They allow us a way to repeat codes without constantly copying and pasting them. They take arguments that we pick and operate on these arguments to return something. It is a good idea to create when lines of code expand beyong a few lines so that you can cleanly organize and change things. Take the functions we have used right from the beginning, these functions assists to execute some lines of codes with ease. \n",
    "\n",
    "To create a function, start by calling _def_ followed by our prefered name for our function. Then an indented code under which defines what the function will carry out."
   ]
  },
  {
   "cell_type": "markdown",
   "metadata": {},
   "source": [
    "### 2.1 Using Functions"
   ]
  },
  {
   "cell_type": "code",
   "execution_count": 32,
   "metadata": {},
   "outputs": [
    {
     "data": {
      "text/plain": [
       "2.0"
      ]
     },
     "execution_count": 32,
     "metadata": {},
     "output_type": "execute_result"
    }
   ],
   "source": [
    "from math import sqrt\n",
    "sqrt(4)"
   ]
  },
  {
   "cell_type": "markdown",
   "metadata": {},
   "source": [
    "The word 'function' has multiple meanings in maths. In programming, it refers to a named sequence of operations that perform a computation. In the above code, _sqrt()_ is a defined function in the _math_ module which computes the square root of a given number. The number passed to the function _sqrt_ above is called an argument of a function.\n",
    "\n",
    "This is just one example of the several functions in the Python language. The basic ones such as _print()_ and _input()_ which we have already been using in our earlier codes."
   ]
  },
  {
   "cell_type": "markdown",
   "metadata": {},
   "source": [
    "### 2.2 Defining Functions"
   ]
  },
  {
   "cell_type": "code",
   "execution_count": 10,
   "metadata": {},
   "outputs": [],
   "source": [
    "def python():\n",
    "    print('Hello! Welcome to Python...')"
   ]
  },
  {
   "cell_type": "markdown",
   "metadata": {},
   "source": [
    "This simple function _python()_ is defined to display 'Hello! Welcome to Python...'. This means that if were to display that message several times in our codes, we can simply use the _python()_ function to display the message whenever we need it. Let's call our function..."
   ]
  },
  {
   "cell_type": "code",
   "execution_count": 11,
   "metadata": {},
   "outputs": [
    {
     "name": "stdout",
     "output_type": "stream",
     "text": [
      "Hello! Welcome to Python...\n"
     ]
    }
   ],
   "source": [
    "python()"
   ]
  },
  {
   "cell_type": "markdown",
   "metadata": {},
   "source": [
    "Arguments can also be created for a function. It makes it possible to give functions things to work with. It can be more than one arguments"
   ]
  },
  {
   "cell_type": "code",
   "execution_count": 13,
   "metadata": {},
   "outputs": [],
   "source": [
    "def show(word):\n",
    "    print(word)\n",
    "# this function will now show the argument that it receives.\n",
    "# this is how the 'print()' function works"
   ]
  },
  {
   "cell_type": "code",
   "execution_count": 14,
   "metadata": {},
   "outputs": [
    {
     "name": "stdout",
     "output_type": "stream",
     "text": [
      "notebook\n"
     ]
    }
   ],
   "source": [
    "show('notebook')"
   ]
  },
  {
   "cell_type": "code",
   "execution_count": 15,
   "metadata": {},
   "outputs": [
    {
     "name": "stdout",
     "output_type": "stream",
     "text": [
      "my laptop\n"
     ]
    }
   ],
   "source": [
    "show('my laptop') "
   ]
  },
  {
   "cell_type": "code",
   "execution_count": 16,
   "metadata": {},
   "outputs": [],
   "source": [
    "def plus(a,b):\n",
    "    print(a+b)\n",
    "# this function takes the two arguments, and adds them together"
   ]
  },
  {
   "cell_type": "code",
   "execution_count": 17,
   "metadata": {},
   "outputs": [
    {
     "name": "stdout",
     "output_type": "stream",
     "text": [
      "70\n"
     ]
    }
   ],
   "source": [
    "plus(20,50)"
   ]
  },
  {
   "cell_type": "markdown",
   "metadata": {},
   "source": [
    "Now if we want to store the value of a function to a vatiable, we use _return_ to be able to get back a variable from a function."
   ]
  },
  {
   "cell_type": "code",
   "execution_count": 22,
   "metadata": {},
   "outputs": [],
   "source": [
    "def plus(a,b):\n",
    "    return a+b\n",
    "# this let's you get back the value and assign it to something"
   ]
  },
  {
   "cell_type": "code",
   "execution_count": 25,
   "metadata": {},
   "outputs": [
    {
     "name": "stdout",
     "output_type": "stream",
     "text": [
      "40\n"
     ]
    }
   ],
   "source": [
    "d = plus(10,30)\n",
    "show(d)\n",
    "# we could have used print() but we used the show() function we created\n"
   ]
  },
  {
   "cell_type": "markdown",
   "metadata": {},
   "source": [
    "We will continue more with functions in our next module but before we go, try your hands on this. We will see the outcome in our next module.\n",
    "\n",
    "Create a function that given _a_ and _b_ prints out whether _a_ is greater than _b_, _b_ is greater than _a_, or _a and b_ is equal."
   ]
  },
  {
   "cell_type": "code",
   "execution_count": null,
   "metadata": {},
   "outputs": [],
   "source": []
  }
 ],
 "metadata": {
  "kernelspec": {
   "display_name": "Python 3",
   "language": "python",
   "name": "python3"
  },
  "language_info": {
   "codemirror_mode": {
    "name": "ipython",
    "version": 3
   },
   "file_extension": ".py",
   "mimetype": "text/x-python",
   "name": "python",
   "nbconvert_exporter": "python",
   "pygments_lexer": "ipython3",
   "version": "3.7.4"
  }
 },
 "nbformat": 4,
 "nbformat_minor": 2
}
