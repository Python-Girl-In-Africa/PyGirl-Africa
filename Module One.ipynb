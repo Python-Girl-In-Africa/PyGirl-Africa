{
 "cells": [
  {
   "cell_type": "markdown",
   "metadata": {},
   "source": [
    "# Module One"
   ]
  },
  {
   "cell_type": "markdown",
   "metadata": {},
   "source": [
    "At the end of the Module One, student should be able to:\n",
    "  - understand and know the basic data types of the Python Language\n",
    "  - understand and know the differences between lists, sets and tuples\n",
    "  - understand and know how the input and output functions work"
   ]
  },
  {
   "cell_type": "markdown",
   "metadata": {},
   "source": [
    "# 1.0 Introduction to Python: Using Python"
   ]
  },
  {
   "cell_type": "markdown",
   "metadata": {},
   "source": [
    "Python is a cross-platform programming language, which means it runs on all the major operating systems. It is an incredibly efficient programming language. This translates to programmes doing more in few lines of code than many other languages would require. Python's syntax mwill help you write \"clean\" codes because it is easy to read, easy to debug and easy to extend and build upon compared to other programming languages.\n",
    " \n",
    "Python has many uses ranging from creation of games, building web applications, solving business problems, and developing internal tools at all kinds of interesting companies. Because of its ease of understanding, it is used heavily in scientific fields for academic research and applied work.\n",
    "\n",
    "Luckily, there is an incredibly diverse and welcoming group of people in the Python Community to assist with any difficulty one may face in a project. Even the most experienced programmers, need advice from others who have already solved similar problems. \n",
    "\n",
    "Ladies are more advantaged because large companies like Microsoft are giving opportunities to ladies who are interested in learning and using the Python Programming Language.\n",
    "\n",
    "Python is a great language to learn, so let's get started!"
   ]
  },
  {
   "cell_type": "markdown",
   "metadata": {},
   "source": [
    "## 1.1 Installing the software"
   ]
  },
  {
   "cell_type": "markdown",
   "metadata": {},
   "source": [
    "Python can be run with various softwares. I advice you install the Anaconda software from anaconda.com. "
   ]
  },
  {
   "cell_type": "markdown",
   "metadata": {},
   "source": [
    "# 1.2 Basic things to know"
   ]
  },
  {
   "cell_type": "markdown",
   "metadata": {},
   "source": [
    "## Variables and Functions\n",
    "Variables in programming are used to store data or values. Functions, on the other hand, are used to perform some operations on these variables and their values for a preferred output. Functions will be treated further in the subsequent modules"
   ]
  },
  {
   "cell_type": "code",
   "execution_count": 1,
   "metadata": {},
   "outputs": [
    {
     "name": "stdout",
     "output_type": "stream",
     "text": [
      "15\n",
      "59.5\n",
      "Be happy\n"
     ]
    }
   ],
   "source": [
    "a = 15\n",
    "b = 59.5\n",
    "c = \"Be happy\"\n",
    "print(a)\n",
    "print(b)\n",
    "print(c)"
   ]
  },
  {
   "cell_type": "markdown",
   "metadata": {},
   "source": [
    "From the above codes, 'a', 'b' and 'c' are variables. Variable 'a' has a value '15', b has a value '59.5 likewise c with a value 'Be happy'. You notice that the '=' operator was used to assign values to the variables. We will learn about operators in detail later.\n",
    "'print' also revealed what was in the variable. That is a function which outputs the value of the variable. There are several functions which will be explained as we progress."
   ]
  },
  {
   "cell_type": "markdown",
   "metadata": {},
   "source": [
    "## Rules for naming a variable\n",
    "Variable names consist of alphabets and digits or an underscore. The underscore is used to create variable names with two or more words. Note that you cannot begin a variable name with a digit.\n",
    "\n",
    "There are other popular name styles that can be used and is popular among Python programmers. One is the *camelCase* naming convention. Names in this format are written in a manner where the variable name begins with lowercase letter and the first character of the subsequent words is written in uppercase\n",
    "\n",
    "Examples 'first_name', 'finance_class', 'number1', 'firstName' etc. Despite the fact that you can use words, there are some words that cannot be used as variable names because they have special meanings; 'for, except, if, try, from etc.\n",
    "\n"
   ]
  },
  {
   "cell_type": "markdown",
   "metadata": {},
   "source": [
    "## Comments\n",
    "In programming, a comment is used to describe what is going on inside a programme or what a line of code means. Comments are ignored by the Python interpreter. The hashtag # symbol is used to start writing a comment"
   ]
  },
  {
   "cell_type": "code",
   "execution_count": 2,
   "metadata": {},
   "outputs": [
    {
     "name": "stdout",
     "output_type": "stream",
     "text": [
      "Python\n"
     ]
    }
   ],
   "source": [
    "# This is a comment\n",
    "a = 'Python' # a contains 'Python'\n",
    "print(a)"
   ]
  },
  {
   "cell_type": "markdown",
   "metadata": {},
   "source": [
    "# 2.0 Data Types and Data Structures"
   ]
  },
  {
   "cell_type": "markdown",
   "metadata": {},
   "source": [
    "Python offers various basic data types and structures and we will treat these data types, their features and how to use them in our codes. Data types represent a kind of value which determines what operations can be performed on the data. These data types are integers, strings, floats and Booleans (True/False). \n",
    "\n",
    "For data structures we have lists, sets, tuples, and dictionaries"
   ]
  },
  {
   "cell_type": "markdown",
   "metadata": {},
   "source": [
    "## 2.1 Data Types"
   ]
  },
  {
   "cell_type": "markdown",
   "metadata": {},
   "source": [
    "### 2.1.1 Strings, Integers and Floats"
   ]
  },
  {
   "cell_type": "markdown",
   "metadata": {},
   "source": [
    "Often times in most programming languages, the first project or code you learn to write is \"Hello World!\""
   ]
  },
  {
   "cell_type": "code",
   "execution_count": 3,
   "metadata": {
    "scrolled": true
   },
   "outputs": [
    {
     "name": "stdout",
     "output_type": "stream",
     "text": [
      "Hello Python World!\n"
     ]
    }
   ],
   "source": [
    "print(\"Hello Python World!\")"
   ]
  },
  {
   "cell_type": "markdown",
   "metadata": {},
   "source": [
    "### 2.1.1 Strings\n",
    "String is a literal which refers to a sequence of characters surrounded by quotation marks. We can use either single, double or triples quotes for a string. The 'Hello Python World!' printed above is a string because it was written in quotes. Let's try another,"
   ]
  },
  {
   "cell_type": "code",
   "execution_count": 4,
   "metadata": {},
   "outputs": [
    {
     "name": "stdout",
     "output_type": "stream",
     "text": [
      "Ama Kwansima\n",
      "Ato Kwamina\n",
      "Name: Kofi\n",
      "Age: 25\n",
      "Town: Accra\n"
     ]
    }
   ],
   "source": [
    "name = \"Ama Kwansima\"\n",
    "other_name = 'Ato Kwamina'\n",
    "multiline_string = \"\"\"Name: Kofi\n",
    "Age: 25\n",
    "Town: Accra\"\"\"\n",
    "print(name)\n",
    "print(other_name)\n",
    "print(multiline_string)"
   ]
  },
  {
   "cell_type": "markdown",
   "metadata": {},
   "source": [
    "To check the type of the value of a variable, the type() function is used"
   ]
  },
  {
   "cell_type": "code",
   "execution_count": 5,
   "metadata": {},
   "outputs": [
    {
     "name": "stdout",
     "output_type": "stream",
     "text": [
      "<class 'str'>\n"
     ]
    }
   ],
   "source": [
    "print(type(name))"
   ]
  },
  {
   "cell_type": "markdown",
   "metadata": {},
   "source": [
    "Let's try assigning 'Python' to any variable of your choice, then print the type of class it is."
   ]
  },
  {
   "cell_type": "markdown",
   "metadata": {},
   "source": [
    "Other functions that can be performed on strings"
   ]
  },
  {
   "cell_type": "code",
   "execution_count": 6,
   "metadata": {
    "scrolled": true
   },
   "outputs": [
    {
     "name": "stdout",
     "output_type": "stream",
     "text": [
      "My Very Eyes May Just See Under Nine Planets\n",
      "44\n",
      "my very eyes may just see under nine planets\n",
      "MY VERY EYES MAY JUST SEE UNDER NINE PLANETS\n"
     ]
    }
   ],
   "source": [
    "text = \"My Very Eyes May Just See Under Nine Planets\"\n",
    "print(text)\n",
    "print(len(text))\n",
    "print(text.lower())\n",
    "print(text.upper())"
   ]
  },
  {
   "cell_type": "markdown",
   "metadata": {},
   "source": [
    "#### 2.1.1.1 String Indexing\n",
    "Python uses '0 indexing'. This means that it starts numbering the elements from 0 to the end"
   ]
  },
  {
   "cell_type": "code",
   "execution_count": 7,
   "metadata": {},
   "outputs": [
    {
     "name": "stdout",
     "output_type": "stream",
     "text": [
      "B\n"
     ]
    }
   ],
   "source": [
    "word = \"Benevolent\"\n",
    "print(word[0]) # prints the first element of the variable"
   ]
  },
  {
   "cell_type": "code",
   "execution_count": 8,
   "metadata": {},
   "outputs": [
    {
     "name": "stdout",
     "output_type": "stream",
     "text": [
      "v\n"
     ]
    }
   ],
   "source": [
    "print(word[4]) # prints the fifth element of the variable"
   ]
  },
  {
   "cell_type": "code",
   "execution_count": 9,
   "metadata": {},
   "outputs": [
    {
     "name": "stdout",
     "output_type": "stream",
     "text": [
      "l\n"
     ]
    }
   ],
   "source": [
    "print(word[6]) # what element does it print?"
   ]
  },
  {
   "cell_type": "markdown",
   "metadata": {},
   "source": [
    "#### Ranges\n",
    "A range of elements can be printed"
   ]
  },
  {
   "cell_type": "code",
   "execution_count": 10,
   "metadata": {},
   "outputs": [
    {
     "name": "stdout",
     "output_type": "stream",
     "text": [
      "Benevo\n"
     ]
    }
   ],
   "source": [
    "print(word[0:6]) # prints out the first to fifth element"
   ]
  },
  {
   "cell_type": "code",
   "execution_count": 11,
   "metadata": {},
   "outputs": [
    {
     "name": "stdout",
     "output_type": "stream",
     "text": [
      "nevo\n"
     ]
    }
   ],
   "source": [
    "print(word[2:6]) # prints third to fifth element"
   ]
  },
  {
   "cell_type": "code",
   "execution_count": 12,
   "metadata": {},
   "outputs": [
    {
     "name": "stdout",
     "output_type": "stream",
     "text": [
      "Benevol\n"
     ]
    }
   ],
   "source": [
    "print(word[:7]) # prints first to sixth element"
   ]
  },
  {
   "cell_type": "code",
   "execution_count": 13,
   "metadata": {},
   "outputs": [
    {
     "name": "stdout",
     "output_type": "stream",
     "text": [
      "lent\n"
     ]
    }
   ],
   "source": [
    "print(word[6:]) # prints from the seventh element to the end"
   ]
  },
  {
   "cell_type": "markdown",
   "metadata": {},
   "source": [
    "Try printing out 'volent'"
   ]
  },
  {
   "cell_type": "markdown",
   "metadata": {},
   "source": [
    "### 2.1.2 Integers and Floats\n",
    "Integers are simply whole numbers and floating-point numbers (floats) are numbers with decimal points.\n"
   ]
  },
  {
   "cell_type": "code",
   "execution_count": 14,
   "metadata": {},
   "outputs": [
    {
     "name": "stdout",
     "output_type": "stream",
     "text": [
      "<class 'int'>\n",
      "<class 'int'>\n",
      "<class 'float'>\n",
      "<class 'float'>\n"
     ]
    }
   ],
   "source": [
    "a = 400\n",
    "b = -30\n",
    "c = 40.5\n",
    "d = 1.525e2 # 1.525e2 is equivalent to 1.525*10^2\n",
    "print(type(a))\n",
    "print(type(b))\n",
    "print(type(c))\n",
    "print(type(d))"
   ]
  },
  {
   "cell_type": "markdown",
   "metadata": {},
   "source": [
    "We can work on integers and floats with various operations such as the subtraction -, addition +, multiplication * , division /, and exponent ** . They can simply be concatenated directly using the print function or variables containing these data types"
   ]
  },
  {
   "cell_type": "code",
   "execution_count": 15,
   "metadata": {},
   "outputs": [
    {
     "name": "stdout",
     "output_type": "stream",
     "text": [
      "4\n",
      "6\n",
      "10\n",
      "25.0\n"
     ]
    }
   ],
   "source": [
    "print(2+2) # addition\n",
    "print(10-4) # subtraction\n",
    "print(2*5) # multiplication\n",
    "print(100/4) #division"
   ]
  },
  {
   "cell_type": "code",
   "execution_count": 16,
   "metadata": {},
   "outputs": [
    {
     "name": "stdout",
     "output_type": "stream",
     "text": [
      "15\n",
      "-5\n",
      "50\n",
      "9765625\n"
     ]
    }
   ],
   "source": [
    "x = 5\n",
    "y = 10\n",
    "print(x + y)\n",
    "print(x - y)\n",
    "print(x * y)\n",
    "print(x ** y)"
   ]
  },
  {
   "cell_type": "markdown",
   "metadata": {},
   "source": [
    "### Notes"
   ]
  },
  {
   "cell_type": "markdown",
   "metadata": {},
   "source": [
    "There are some operations that can be performed on some data types. \n",
    "\n",
    "Strings can be concatenated to strings but cannot be concatenated to integers and floats in their raw state (unless converted with a function). However, floats and integers can be concatenated but its output will be a float"
   ]
  },
  {
   "cell_type": "code",
   "execution_count": 17,
   "metadata": {},
   "outputs": [
    {
     "name": "stdout",
     "output_type": "stream",
     "text": [
      "Python Programming\n"
     ]
    }
   ],
   "source": [
    "first = \"Python \"\n",
    "last = \"Programming\"\n",
    "print(first + last)"
   ]
  },
  {
   "cell_type": "code",
   "execution_count": 18,
   "metadata": {},
   "outputs": [
    {
     "ename": "TypeError",
     "evalue": "can only concatenate str (not \"int\") to str",
     "output_type": "error",
     "traceback": [
      "\u001b[1;31m---------------------------------------------------------------------------\u001b[0m",
      "\u001b[1;31mTypeError\u001b[0m                                 Traceback (most recent call last)",
      "\u001b[1;32m<ipython-input-18-898c7f844650>\u001b[0m in \u001b[0;36m<module>\u001b[1;34m\u001b[0m\n\u001b[0;32m      1\u001b[0m \u001b[0ma\u001b[0m \u001b[1;33m=\u001b[0m \u001b[1;34m\"A \"\u001b[0m\u001b[1;33m\u001b[0m\u001b[1;33m\u001b[0m\u001b[0m\n\u001b[0;32m      2\u001b[0m \u001b[0mb\u001b[0m \u001b[1;33m=\u001b[0m \u001b[1;36m1\u001b[0m\u001b[1;33m\u001b[0m\u001b[1;33m\u001b[0m\u001b[0m\n\u001b[1;32m----> 3\u001b[1;33m \u001b[0mprint\u001b[0m\u001b[1;33m(\u001b[0m\u001b[0ma\u001b[0m \u001b[1;33m+\u001b[0m \u001b[0mb\u001b[0m\u001b[1;33m)\u001b[0m\u001b[1;33m\u001b[0m\u001b[1;33m\u001b[0m\u001b[0m\n\u001b[0m",
      "\u001b[1;31mTypeError\u001b[0m: can only concatenate str (not \"int\") to str"
     ]
    }
   ],
   "source": [
    "a = \"A \"\n",
    "b = 1\n",
    "print(a + b)"
   ]
  },
  {
   "cell_type": "markdown",
   "metadata": {},
   "source": [
    "In order to concatenate a string and an integer, there is the need to convert one to the other using either the int() or str() function. Note, a string can only be converted to an integer if the value is a number."
   ]
  },
  {
   "cell_type": "code",
   "execution_count": 19,
   "metadata": {},
   "outputs": [
    {
     "name": "stdout",
     "output_type": "stream",
     "text": [
      "A 1\n"
     ]
    }
   ],
   "source": [
    "a = \"A \"\n",
    "b = 1\n",
    "print(a + str(b))"
   ]
  },
  {
   "cell_type": "markdown",
   "metadata": {},
   "source": [
    "Let's assign 'Microsoft Office' to a variable and '2019' to another variable and concatenate the two."
   ]
  },
  {
   "cell_type": "markdown",
   "metadata": {},
   "source": [
    "## 2.2 Data Structures"
   ]
  },
  {
   "cell_type": "markdown",
   "metadata": {},
   "source": [
    "Under data structures there are lists, sets, tuples and dictionaries"
   ]
  },
  {
   "cell_type": "markdown",
   "metadata": {},
   "source": [
    "### 2.2.1 Lists\n",
    "A list is a way of holding multiple elements together. They are usually identified by square brackets [ ] with commas separating each item"
   ]
  },
  {
   "cell_type": "code",
   "execution_count": 20,
   "metadata": {},
   "outputs": [
    {
     "name": "stdout",
     "output_type": "stream",
     "text": [
      "[1, 2, 3, 4, 5]\n"
     ]
    }
   ],
   "source": [
    "l = [1, 2, 3, 4, 5]\n",
    "print(l)"
   ]
  },
  {
   "cell_type": "code",
   "execution_count": 21,
   "metadata": {},
   "outputs": [
    {
     "name": "stdout",
     "output_type": "stream",
     "text": [
      "5\n"
     ]
    }
   ],
   "source": [
    "print(len(l)) # the len()function returns the number of elements in a variable"
   ]
  },
  {
   "cell_type": "code",
   "execution_count": 22,
   "metadata": {},
   "outputs": [
    {
     "name": "stdout",
     "output_type": "stream",
     "text": [
      "[1, 2, 3, 4, 5, 5]\n"
     ]
    }
   ],
   "source": [
    "l.append(5) # the append()function adds a value on the end of a list\n",
    "# this add only one value at a time\n",
    "print(l)"
   ]
  },
  {
   "cell_type": "code",
   "execution_count": 23,
   "metadata": {},
   "outputs": [
    {
     "name": "stdout",
     "output_type": "stream",
     "text": [
      "[1, 2, 3, 4, 5, 5, 6, 7, 8]\n"
     ]
    }
   ],
   "source": [
    "l.extend([6, 7, 8]) # the extend()function add multiple values\n",
    "print(l)"
   ]
  },
  {
   "cell_type": "markdown",
   "metadata": {},
   "source": [
    "Let's work with strings"
   ]
  },
  {
   "cell_type": "code",
   "execution_count": 24,
   "metadata": {},
   "outputs": [
    {
     "data": {
      "text/plain": [
       "['Google', 'Amazon', 'Facebook', 'Apple']"
      ]
     },
     "execution_count": 24,
     "metadata": {},
     "output_type": "execute_result"
    }
   ],
   "source": [
    "stocks = [\"Google\", \"Amazon\", \"Facebook\", \"Apple\"]\n",
    "stocks"
   ]
  },
  {
   "cell_type": "code",
   "execution_count": 25,
   "metadata": {},
   "outputs": [
    {
     "data": {
      "text/plain": [
       "'Amazon'"
      ]
     },
     "execution_count": 25,
     "metadata": {},
     "output_type": "execute_result"
    }
   ],
   "source": [
    "stocks[1] \n",
    "# prints out second element (Remember indexing under strings?)"
   ]
  },
  {
   "cell_type": "code",
   "execution_count": 26,
   "metadata": {},
   "outputs": [
    {
     "name": "stdout",
     "output_type": "stream",
     "text": [
      "['Google', 'Amazon', 'Facebook', 'Apple', 'Twitter']\n"
     ]
    }
   ],
   "source": [
    "stocks.append(\"Twitter\")\n",
    "# adds Twitter to the end of the list\n",
    "print(stocks)"
   ]
  },
  {
   "cell_type": "code",
   "execution_count": 27,
   "metadata": {},
   "outputs": [
    {
     "name": "stdout",
     "output_type": "stream",
     "text": [
      "['Google', 'Amazon', 'Microsoft', 'Facebook', 'Apple', 'Twitter']\n"
     ]
    }
   ],
   "source": [
    "stocks.insert(2, \"Microsoft\")\n",
    "# adds the element at the 2nd index\n",
    "print(stocks)"
   ]
  },
  {
   "cell_type": "code",
   "execution_count": 28,
   "metadata": {},
   "outputs": [
    {
     "name": "stdout",
     "output_type": "stream",
     "text": [
      "['Google', 'Amazon', 'Microsoft', 'Facebook', 'Snapchat', 'Twitter']\n"
     ]
    }
   ],
   "source": [
    "stocks[4] = \"Snapchat\"\n",
    "# overwrites a value in a list by its index\n",
    "print(stocks)"
   ]
  },
  {
   "cell_type": "code",
   "execution_count": 29,
   "metadata": {},
   "outputs": [
    {
     "name": "stdout",
     "output_type": "stream",
     "text": [
      "['Amazon', 'Facebook', 'Google', 'Microsoft', 'Snapchat', 'Twitter']\n"
     ]
    }
   ],
   "source": [
    "stocks.sort()\n",
    "# rearranges the list in alphabetical order \n",
    "# arranges with capital alphabets first\n",
    "print(stocks)"
   ]
  },
  {
   "cell_type": "code",
   "execution_count": 30,
   "metadata": {},
   "outputs": [
    {
     "name": "stdout",
     "output_type": "stream",
     "text": [
      "['Facebook', 'Google', 'Microsoft', 'Snapchat', 'Twitter']\n"
     ]
    }
   ],
   "source": [
    "stocks.remove(\"Amazon\")\n",
    "# removes an element from the list\n",
    "print(stocks)"
   ]
  },
  {
   "cell_type": "code",
   "execution_count": 31,
   "metadata": {},
   "outputs": [
    {
     "name": "stdout",
     "output_type": "stream",
     "text": [
      "['Facebook', 'Google', 'Microsoft', 'Snapchat']\n",
      "Twitter\n"
     ]
    }
   ],
   "source": [
    "tech = stocks.pop()\n",
    "# removes the last variable from a list and returns it to another variable\n",
    "print(stocks)\n",
    "print(tech)"
   ]
  },
  {
   "cell_type": "code",
   "execution_count": 32,
   "metadata": {},
   "outputs": [
    {
     "name": "stdout",
     "output_type": "stream",
     "text": [
      "['Facebook', 'Google', 'Microsoft', 'Snapchat', 'Facebook', 'Google', 'Microsoft', 'Snapchat']\n"
     ]
    }
   ],
   "source": [
    "print(stocks * 2)\n",
    "# repeats a list by that many times"
   ]
  },
  {
   "cell_type": "code",
   "execution_count": 33,
   "metadata": {
    "scrolled": true
   },
   "outputs": [
    {
     "name": "stdout",
     "output_type": "stream",
     "text": [
      "[]\n"
     ]
    }
   ],
   "source": [
    "stocks.clear()\n",
    "# gets rid of all elemenets in a list\n",
    "print(stocks)"
   ]
  },
  {
   "cell_type": "markdown",
   "metadata": {},
   "source": [
    "### 2.2.2 Tuples and Sets\n",
    "These are similar to lists. Sets are identified by curly brackets { } whereas tuples are identified by parenthesis ( ). Sets only hold unique set of values."
   ]
  },
  {
   "cell_type": "code",
   "execution_count": 34,
   "metadata": {},
   "outputs": [
    {
     "name": "stdout",
     "output_type": "stream",
     "text": [
      "(1, 1, 1, 1, 1, 2, 2, 2, 2, 3, 3, 3, 4, 4, 5)\n"
     ]
    }
   ],
   "source": [
    "t = (1,1,1,1,1,2,2,2,2,3,3,3,4,4,5)\n",
    "print(t)"
   ]
  },
  {
   "cell_type": "code",
   "execution_count": 35,
   "metadata": {},
   "outputs": [
    {
     "data": {
      "text/plain": [
       "5"
      ]
     },
     "execution_count": 35,
     "metadata": {},
     "output_type": "execute_result"
    }
   ],
   "source": [
    "t.count(1) # counts the number of the unique value in a tuple"
   ]
  },
  {
   "cell_type": "code",
   "execution_count": 36,
   "metadata": {},
   "outputs": [
    {
     "name": "stdout",
     "output_type": "stream",
     "text": [
      "{1, 2, 3, 4, 5}\n"
     ]
    }
   ],
   "source": [
    "s = set(t) # unique values of the variable t are assigned to s\n",
    "print(s)"
   ]
  },
  {
   "cell_type": "code",
   "execution_count": 37,
   "metadata": {
    "scrolled": true
   },
   "outputs": [
    {
     "name": "stdout",
     "output_type": "stream",
     "text": [
      "{1, 2, 3, 4, 5, 6, 8}\n",
      "{2, 4}\n"
     ]
    }
   ],
   "source": [
    "s1 = {1,2,3,4,5}\n",
    "s2 = {2,4,6,8}\n",
    "print(s1.union(s2)) # joins the unique elements of the sets\n",
    "print(s1.intersection(s2)) # finds where they overlap"
   ]
  },
  {
   "cell_type": "markdown",
   "metadata": {},
   "source": [
    "# 3.0 Input and Output"
   ]
  },
  {
   "cell_type": "markdown",
   "metadata": {},
   "source": [
    "Input in its basic meaning is entering data into a computer and then after processing, the result of the performed operation is output. Input is any data that the programme receives while it is running. And output is the end-result of the process sent out of the programme. We will discuss ways you can perform input and output functions using Python."
   ]
  },
  {
   "cell_type": "markdown",
   "metadata": {},
   "source": [
    "## 3.1 Output\n",
    "It might seem awkward that we are beginning with the output function but it is actually the most basic and fundamental built-in function mostly used in Python which displays the output on the screen. Remember the first codes we run under the 'Basic things to know'? The print function was used to display the values of the variables. And we have used the print function many times under Data types and structures. (When you use or execute a function, in programming, you say you have _called a function_.)\n",
    "\n",
    "When you call the _print_ function, you type the word print, followed by a set of parentheses where in-between you type an _argument_ which is what you want to display. You can also print the value of a variable by using the variable as the argument for the the print funtion without using any parentheses."
   ]
  },
  {
   "cell_type": "code",
   "execution_count": 1,
   "metadata": {},
   "outputs": [
    {
     "name": "stdout",
     "output_type": "stream",
     "text": [
      "Hello PyGirls\n"
     ]
    }
   ],
   "source": [
    "print('Hello PyGirls')"
   ]
  },
  {
   "cell_type": "code",
   "execution_count": 2,
   "metadata": {},
   "outputs": [
    {
     "name": "stdout",
     "output_type": "stream",
     "text": [
      "Ama Ghana\n",
      "123 Airport Hills\n",
      "Airport Residential, Accra\n"
     ]
    }
   ],
   "source": [
    "print('Ama Ghana')                   # displays the name\n",
    "print(\"123 Airport Hills\")           # displays the address\n",
    "print(\"Airport Residential, Accra\")  # displays the town and city"
   ]
  },
  {
   "cell_type": "markdown",
   "metadata": {},
   "source": [
    "As we have learnt under _strings,_ we can use single quotes, double quotes and multiline quotes. They simply mark where the string data begins and ends.\n",
    "\n",
    "Comments are an essential part of writing codes in programmes. It is important that you take time to write comments as they will save you and others time in the future when you have to modify or debug the programme. It might be impossible to read and understand codes without comments."
   ]
  },
  {
   "cell_type": "code",
   "execution_count": 8,
   "metadata": {},
   "outputs": [
    {
     "name": "stdout",
     "output_type": "stream",
     "text": [
      "Ama Ghana\n",
      "123 Airport Hills\n",
      "Airport Residential, Accra\n"
     ]
    }
   ],
   "source": [
    "print(\"\"\"Ama Ghana\n",
    "123 Airport Hills\n",
    "Airport Residential, Accra\"\"\")"
   ]
  },
  {
   "cell_type": "code",
   "execution_count": 3,
   "metadata": {
    "scrolled": true
   },
   "outputs": [
    {
     "name": "stdout",
     "output_type": "stream",
     "text": [
      "Ama Ghana \n",
      "123 Airport Hills \n",
      "Airport Residential, Accra\n"
     ]
    }
   ],
   "source": [
    "print('Ama Ghana \\n123 Airport Hills \\nAirport Residential, Accra')"
   ]
  },
  {
   "cell_type": "code",
   "execution_count": 10,
   "metadata": {},
   "outputs": [
    {
     "name": "stdout",
     "output_type": "stream",
     "text": [
      "width\n",
      "20\n"
     ]
    }
   ],
   "source": [
    "width = 20\n",
    "print('width')\n",
    "print(width)"
   ]
  },
  {
   "cell_type": "markdown",
   "metadata": {},
   "source": [
    "Notice the difference? We assigned '20' to the variable 'width' on the first line. Then we called print('width') to display 'width' on the second line. On the third line, we called print(width) to display the value of the variable."
   ]
  },
  {
   "cell_type": "code",
   "execution_count": 11,
   "metadata": {},
   "outputs": [
    {
     "name": "stdout",
     "output_type": "stream",
     "text": [
      "The width of the table is\n",
      "20\n"
     ]
    }
   ],
   "source": [
    "print('The width of the table is')\n",
    "print(width)"
   ]
  },
  {
   "cell_type": "code",
   "execution_count": 13,
   "metadata": {
    "scrolled": true
   },
   "outputs": [
    {
     "name": "stdout",
     "output_type": "stream",
     "text": [
      "The width of the table is 20\n"
     ]
    }
   ],
   "source": [
    "print('The width of the table is', width)"
   ]
  },
  {
   "cell_type": "code",
   "execution_count": 18,
   "metadata": {},
   "outputs": [
    {
     "name": "stdout",
     "output_type": "stream",
     "text": [
      "The width of the table is 20 centimeters\n"
     ]
    }
   ],
   "source": [
    "unit = 'centimeters'\n",
    "print('The width of the table is', width, unit)"
   ]
  },
  {
   "cell_type": "code",
   "execution_count": 19,
   "metadata": {
    "scrolled": true
   },
   "outputs": [
    {
     "name": "stdout",
     "output_type": "stream",
     "text": [
      "20 centimeters\n"
     ]
    }
   ],
   "source": [
    "print(width, unit)"
   ]
  },
  {
   "cell_type": "markdown",
   "metadata": {},
   "source": [
    "The print function can print out a string argument together with a variable at the same time and the values of multiple variables also. Depending on how you may want your results to be displayed, there are other functions or codes in addition to the print function that can help you display your desired output."
   ]
  },
  {
   "cell_type": "markdown",
   "metadata": {},
   "source": [
    "## 3.2 Input\n",
    "There is the need to read input and then perform an operation on that input. We will discuss a basic input operation which is reading data that has been typed on a keyboard. Note that this data is always assigned to a variable so the operations can be performed on it later."
   ]
  },
  {
   "cell_type": "code",
   "execution_count": 20,
   "metadata": {},
   "outputs": [
    {
     "name": "stdout",
     "output_type": "stream",
     "text": [
      "What is your name? Python\n",
      "Python\n"
     ]
    }
   ],
   "source": [
    "name = input('What is your name? ')\n",
    "print(name)"
   ]
  },
  {
   "cell_type": "code",
   "execution_count": 21,
   "metadata": {
    "scrolled": true
   },
   "outputs": [
    {
     "name": "stdout",
     "output_type": "stream",
     "text": [
      "Enter your first name: Ama\n",
      "Enter your last name: Ghana\n",
      "Hello Ama Ghana\n"
     ]
    }
   ],
   "source": [
    "first_name = input('Enter your first name: ') # user's first name\n",
    "last_name = input('Enter your last name: ')   # user's last name\n",
    "print('Hello', first_name, last_name)         # greeting to the user"
   ]
  },
  {
   "cell_type": "markdown",
   "metadata": {},
   "source": [
    "You notice that in the first text box, the first line of code displayed 'What is your name? ' and waited for the you to enter a name. The name is then displayed by the second line of code which is the variable which the name was assigned to.\n",
    "\n",
    "Same happens to the second text box with the _first and last name_ where their values are printed in the third line in addition to the _'Hello'_ string.\n",
    "\n",
    "Now take a closer look at the lines of codes with the input function. You notice that the last character in the quote marks, is a space: _'Enter your last name: '_. This is done because the input funtion does not automatically display a space after the prompt. That makes user's input separate from the prompt."
   ]
  },
  {
   "cell_type": "markdown",
   "metadata": {},
   "source": [
    "#### Numbers with the input() function\n",
    "By default, the object class of the input() function is a string. Therefore to work with integers or float from the input of a user, there is the need to have a _nested function call_."
   ]
  },
  {
   "cell_type": "code",
   "execution_count": 4,
   "metadata": {},
   "outputs": [
    {
     "name": "stdout",
     "output_type": "stream",
     "text": [
      "Which year were you born? 1996\n",
      "You are 23 years old.\n"
     ]
    }
   ],
   "source": [
    "born_year = int(input('Which year were you born? '))\n",
    "age = 2019 - born_year\n",
    "print('You are', age, 'years old.' )"
   ]
  },
  {
   "cell_type": "markdown",
   "metadata": {},
   "source": [
    "Your age was calculated right from your input. This was possible because the first line converted your input to _integer_ making it possible for the second line of code to work by calculating your age. Remember we said that, integers can only be concatenated with integers and floats only.\n",
    "\n",
    "This is what happens:\n",
    "- It calls the input function to get your value entered.\n",
    "- The value that is entered(string) is passed as an argument to the int() function.\n",
    "- The integer value that is returned from the int() function is assigned to the _born_year_ variable.\n",
    "- Then it is subtracted from 2019 to get your current age.\n",
    "\n",
    "The same applies to the _float() function_. These only work if the input that is being converted is a number."
   ]
  },
  {
   "cell_type": "code",
   "execution_count": null,
   "metadata": {},
   "outputs": [],
   "source": []
  }
 ],
 "metadata": {
  "kernelspec": {
   "display_name": "Python 3",
   "language": "python",
   "name": "python3"
  },
  "language_info": {
   "codemirror_mode": {
    "name": "ipython",
    "version": 3
   },
   "file_extension": ".py",
   "mimetype": "text/x-python",
   "name": "python",
   "nbconvert_exporter": "python",
   "pygments_lexer": "ipython3",
   "version": "3.7.4"
  }
 },
 "nbformat": 4,
 "nbformat_minor": 2
}
